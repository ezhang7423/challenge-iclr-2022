{
 "cells": [
  {
   "cell_type": "markdown",
   "metadata": {},
   "source": [
    "# Acknowledgements\n",
    "\n",
    "Most of this code was ported from the the excellent Manifold-Flow code base by J. Brehmer and K. Cranmer. Check out their paper [here](https://arxiv.org/abs/2003.13913)."
   ]
  },
  {
   "cell_type": "markdown",
   "metadata": {},
   "source": [
    "## Setup"
   ]
  },
  {
   "cell_type": "code",
   "execution_count": 3,
   "metadata": {},
   "outputs": [
    {
     "name": "stdout",
     "output_type": "stream",
     "text": [
      "Collecting networkx\n",
      "  Using cached networkx-2.7.1-py3-none-any.whl (2.0 MB)\n",
      "Requirement already satisfied: numpy in /home/ezipe/.miniconda3/envs/geomstats-3.8/lib/python3.8/site-packages (1.22.3)\n",
      "Requirement already satisfied: scipy in /home/ezipe/.miniconda3/envs/geomstats-3.8/lib/python3.8/site-packages (1.8.0)\n",
      "Collecting torch\n",
      "  Downloading torch-1.11.0-cp38-cp38-manylinux1_x86_64.whl (750.6 MB)\n",
      "\u001b[2K     \u001b[38;2;249;38;114m━━━━\u001b[0m\u001b[38;2;249;38;114m╸\u001b[0m\u001b[38;5;237m━━━━━━━━━━━━━━━━━━━━━━━━━━━━━━━━\u001b[0m \u001b[32m100.1/750.6 MB\u001b[0m \u001b[31m358.5 kB/s\u001b[0m eta \u001b[36m0:30:15\u001b[0m^C\n",
      "\u001b[2K     \u001b[38;2;249;38;114m━━━━\u001b[0m\u001b[38;2;249;38;114m╸\u001b[0m\u001b[38;5;237m━━━━━━━━━━━━━━━━━━━━━━━━━━━━━━━━\u001b[0m \u001b[32m100.2/750.6 MB\u001b[0m \u001b[31m359.3 kB/s\u001b[0m eta \u001b[36m0:30:11\u001b[0m\n",
      "\u001b[?25h\u001b[31mERROR: Operation cancelled by user\u001b[0m\u001b[31m\n",
      "\u001b[0mRequirement already satisfied: matplotlib in /home/ezipe/.asdf/installs/python/3.7-dev/lib/python3.7/site-packages (3.5.1)\n",
      "Requirement already satisfied: kiwisolver>=1.0.1 in /home/ezipe/.asdf/installs/python/3.7-dev/lib/python3.7/site-packages (from matplotlib) (1.3.2)\n",
      "Requirement already satisfied: pillow>=6.2.0 in /home/ezipe/.asdf/installs/python/3.7-dev/lib/python3.7/site-packages (from matplotlib) (8.4.0)\n",
      "Requirement already satisfied: packaging>=20.0 in /home/ezipe/.asdf/installs/python/3.7-dev/lib/python3.7/site-packages (from matplotlib) (21.3)\n",
      "Requirement already satisfied: pyparsing>=2.2.1 in /home/ezipe/.asdf/installs/python/3.7-dev/lib/python3.7/site-packages (from matplotlib) (3.0.6)\n",
      "Requirement already satisfied: cycler>=0.10 in /home/ezipe/.asdf/installs/python/3.7-dev/lib/python3.7/site-packages (from matplotlib) (0.11.0)\n",
      "Requirement already satisfied: fonttools>=4.22.0 in /home/ezipe/.asdf/installs/python/3.7-dev/lib/python3.7/site-packages (from matplotlib) (4.28.2)\n",
      "Requirement already satisfied: python-dateutil>=2.7 in /home/ezipe/.asdf/installs/python/3.7-dev/lib/python3.7/site-packages (from matplotlib) (2.8.1)\n",
      "Requirement already satisfied: numpy>=1.17 in /home/ezipe/.asdf/installs/python/3.7-dev/lib/python3.7/site-packages (from matplotlib) (1.19.0)\n",
      "Requirement already satisfied: six>=1.5 in /home/ezipe/.asdf/installs/python/3.7-dev/lib/python3.7/site-packages (from python-dateutil>=2.7->matplotlib) (1.16.0)\n"
     ]
    }
   ],
   "source": [
    "# Install packages\n",
    "import sys\n",
    "!{sys.executable} -m pip install networkx numpy scipy torch geomstats mpmath tqdm\n",
    "!pip install -U matplotlib"
   ]
  },
  {
   "cell_type": "code",
   "execution_count": null,
   "metadata": {},
   "outputs": [],
   "source": [
    "# Imports\n",
    "%matplotlib inline\n",
    "\n",
    "import sys\n",
    "from collections import OrderedDict\n",
    "import numpy as np\n",
    "import matplotlib\n",
    "from matplotlib import pyplot as plt\n",
    "from matplotlib.collections import LineCollection\n",
    "import torch\n",
    "from torch.utils.data import TensorDataset\n",
    "import logging\n",
    "import flow\n",
    "\n",
    "# Hyperparameters\n",
    "epochs = 12\n",
    "n_train = 10000\n",
    "epsilon = 0.01\n",
    "train = True"
   ]
  }
 ],
 "metadata": {
  "interpreter": {
   "hash": "5f48bb00b9a147d8ba1221deaa471459b8423b68cfbfb19b57cb7c2ae898a816"
  },
  "kernelspec": {
   "display_name": "Python 3.8.13 ('geomstats-3.8')",
   "language": "python",
   "name": "python3"
  },
  "language_info": {
   "codemirror_mode": {
    "name": "ipython",
    "version": 3
   },
   "file_extension": ".py",
   "mimetype": "text/x-python",
   "name": "python",
   "nbconvert_exporter": "python",
   "pygments_lexer": "ipython3",
   "version": "3.8.13"
  },
  "orig_nbformat": 4
 },
 "nbformat": 4,
 "nbformat_minor": 2
}
